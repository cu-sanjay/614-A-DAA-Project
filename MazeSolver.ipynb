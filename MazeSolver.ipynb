{
 "cells": [
  {
   "cell_type": "code",
   "execution_count": 1,
   "metadata": {},
   "outputs": [
    {
     "name": "stdout",
     "output_type": "stream",
     "text": [
      "Collecting pyamaze\n",
      "  Using cached pyamaze-1.0.1-py3-none-any.whl\n",
      "Installing collected packages: pyamaze\n",
      "Successfully installed pyamaze-1.0.1\n",
      "Note: you may need to restart the kernel to use updated packages.\n"
     ]
    }
   ],
   "source": [
    "pip install pyamaze"
   ]
  },
  {
   "cell_type": "code",
   "execution_count": 2,
   "metadata": {},
   "outputs": [],
   "source": [
    "from pyamaze import maze, agent, COLOR\n",
    "\n",
    "def DFS(m):\n",
    "    start = (m.rows, m.cols)\n",
    "    explored = [start]\n",
    "    frontier = [start]\n",
    "    dfsPath = {}\n",
    "    while len(frontier) > 0:\n",
    "        currCell = frontier.pop()\n",
    "        if currCell == (1, 1):\n",
    "            break\n",
    "        for d in 'ESNW':\n",
    "            if m.maze_map[currCell][d] == True:\n",
    "                if d == 'E':\n",
    "                    childCell = (currCell[0], currCell[1] + 1)\n",
    "                elif d == 'W':\n",
    "                    childCell = (currCell[0], currCell[1] - 1)\n",
    "                elif d == 'S':\n",
    "                    childCell = (currCell[0] + 1, currCell[1])\n",
    "                elif d == 'N':\n",
    "                    childCell = (currCell[0] - 1, currCell[1])\n",
    "                if childCell in explored:\n",
    "                    continue\n",
    "                explored.append(childCell)\n",
    "                frontier.append(childCell)\n",
    "                dfsPath[childCell] = currCell\n",
    "    fwdPath = {}\n",
    "    cell = (1, 1)\n",
    "    while cell != start:\n",
    "        fwdPath[dfsPath[cell]] = cell\n",
    "        cell = dfsPath[cell]\n",
    "    return fwdPath\n"
   ]
  },
  {
   "cell_type": "code",
   "execution_count": 4,
   "metadata": {},
   "outputs": [],
   "source": [
    "m = maze(16, 16)\n",
    "m.CreateMaze(loopPercent=50)\n",
    "path = DFS(m)\n",
    "a = agent(m, footprints=True)\n",
    "m.tracePath({a: path})\n",
    "m.run()"
   ]
  }
 ],
 "metadata": {
  "kernelspec": {
   "display_name": "Python 3",
   "language": "python",
   "name": "python3"
  },
  "language_info": {
   "codemirror_mode": {
    "name": "ipython",
    "version": 3
   },
   "file_extension": ".py",
   "mimetype": "text/x-python",
   "name": "python",
   "nbconvert_exporter": "python",
   "pygments_lexer": "ipython3",
   "version": "3.11.9"
  }
 },
 "nbformat": 4,
 "nbformat_minor": 2
}
